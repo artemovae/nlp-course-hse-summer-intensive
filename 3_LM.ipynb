{
 "cells": [
  {
   "cell_type": "markdown",
   "metadata": {
    "collapsed": true,
    "slideshow": {
     "slide_type": "slide"
    }
   },
   "source": [
    "# Языковые модели\n",
    "\n",
    "Какое слово в последовательности вероятнее: \n",
    "\n",
    "Поезд прибыл на\n",
    "* вокзал\n",
    "* север\n",
    "\n",
    "Какая последовательность вероятнее:\n",
    "* Вокзал прибыл поезд на\n",
    "* Поезд прибыл на вокзал\n",
    "\n",
    "Языковая модель [language model, LM]  позволяет оценить вероятность следующего слова в последовательности  $P(w_n | w_1, \\ldots, w_{n-1})$ и оценить вероятность всей последовательности слов $P(w_1, \\ldots, w_n)$."
   ]
  },
  {
   "cell_type": "markdown",
   "metadata": {
    "slideshow": {
     "slide_type": "subslide"
    }
   },
   "source": [
    "### Приложения:\n",
    "* Задачи, в которых нужно обработать сложный и зашумленный вход: распознавание речи, распознавание сканированных и рукописных текстов;\n",
    "* Исправление опечаток\n",
    "* Машинный перевод\n",
    "* Подсказка при наборе "
   ]
  },
  {
   "cell_type": "markdown",
   "metadata": {
    "slideshow": {
     "slide_type": "subslide"
    }
   },
   "source": [
    "### Виды моделей:\n",
    "* Счетные модели\n",
    "    * цепи Маркова\n",
    "* Нейронные модели, обычно реккурентные нейронные сети с LSTM/GRU\n",
    "* seq2seq архитектуры"
   ]
  },
  {
   "cell_type": "markdown",
   "metadata": {
    "slideshow": {
     "slide_type": "slide"
    }
   },
   "source": [
    "## Модель $n$-грам\n",
    "\n",
    "Пусть $w_{1:n}=w_1,\\ldots,w_m$ – последовательность слов.\n",
    "\n",
    "Цепное правило:\n",
    "$ P(w_{1:m}) = P(w_1) P(w_2 | w_1) P(w_3 | w_{1:2}) \\ldots P(w_m | w_{1:m-1}) = \\prod_{k=1}^{m} P(w_k | w_{1:k-1}) $\n",
    "\n",
    "Но оценить $P(w_k | w_{1:k-1})$ не легче! "
   ]
  },
  {
   "cell_type": "markdown",
   "metadata": {
    "slideshow": {
     "slide_type": "subslide"
    }
   },
   "source": [
    "Переходим к $n$-грамам: $P(w_{i+1} | w_{1:i}) \\approx P(w_{i+1} | w_{i-n:i})  $ , то есть, учитываем $n-1$ предыдущее слово. \n",
    "\n",
    "Модель\n",
    "* униграм: $P(w_k)$\n",
    "* биграм: $P(w_k | w_{k-1})$\n",
    "* триграм: $P(w_k | w_{k-1} w_{k-2})$\n",
    "\n",
    "\n",
    "Т.е. используем Марковские допущения о длине запоминаемой цепочки."
   ]
  },
  {
   "cell_type": "markdown",
   "metadata": {
    "slideshow": {
     "slide_type": "fragment"
    }
   },
   "source": [
    "* Вероятность следующего слова в последовательности: $ P(w_{i+1} | w_{1:i}) \\approx P(w_{i-n:i}) $\n",
    "* Вероятность всей последовательности слов: $P(w_{1:n}) = \\prod_{k=1}^l P(w_k | w_{k-n+1: k-1}) $"
   ]
  },
  {
   "cell_type": "markdown",
   "metadata": {
    "slideshow": {
     "slide_type": "subslide"
    }
   },
   "source": [
    "### Качество модели  $n$-грам\n",
    "\n",
    "Перплексия: насколько хорошо модель предсказывает выборку. Чем ниже значение перплексии, тем лучше.\n",
    "\n",
    "$PP(\\texttt{LM}) = 2 ^ {-\\frac{1}{m} \\log_2 \\texttt{LM} (w_i | w_{1:i-1})}$"
   ]
  },
  {
   "cell_type": "markdown",
   "metadata": {
    "slideshow": {
     "slide_type": "slide"
    }
   },
   "source": [
    "## Счетные языковые модели\n",
    "\n",
    "### ММП оценки вероятностей\n",
    "$ P_{MLE}(w_k | w_{k-n+1:k-1}) = \\frac{\\texttt{count}(w_{k-n+1:k-1} w_k )}{\\texttt{count}(w_{k-n+1:k-1} )} $\n",
    "\n",
    "В модели биграм:\n",
    "\n",
    "$ P_{MLE}(w_k | w_{k-1}) = \\frac{\\texttt{count}(w_{k-1} w_k )}{\\texttt{count}(w_{k-1} )} $\n",
    "\n",
    "Возникает проблема нулевых вероятностей!"
   ]
  },
  {
   "cell_type": "markdown",
   "metadata": {
    "slideshow": {
     "slide_type": "subslide"
    }
   },
   "source": [
    "### Аддитивное сглаживание Лапласа\n",
    "\n",
    "$ P(w_k | w_{k-1}) = \\frac{\\texttt{count}(w_{k-1} w_k ) + \\alpha}{\\texttt{count}(w_{k-1} ) + \\alpha |V|} $"
   ]
  },
  {
   "cell_type": "markdown",
   "metadata": {
    "slideshow": {
     "slide_type": "subslide"
    }
   },
   "source": [
    "![AiB](img/aib.png)  "
   ]
  },
  {
   "cell_type": "markdown",
   "metadata": {
    "slideshow": {
     "slide_type": "subslide"
    }
   },
   "source": [
    "BOS А и Б сидели на трубе EOS\n",
    "\n",
    "BOS А упало Б пропало EOS\n",
    "\n",
    "BOS что осталось на трубе EOS\n",
    "\n",
    "\n",
    "\n",
    "\n",
    "$P($ и $| $ A $) = \\frac{1}{2}$\n",
    "\n",
    "$P($ Б $| $ и $) = \\frac{1}{1}$\n",
    "\n",
    "$P($ трубе $| $ на $) = \\frac{2}{2}$\n",
    "\n",
    "$P($ сидели $| $ Б $) = \\frac{1}{2}$\n",
    "\n",
    "$P($ на $| $ сидели $) = \\frac{1}{2}$\n"
   ]
  },
  {
   "cell_type": "markdown",
   "metadata": {
    "collapsed": true,
    "slideshow": {
     "slide_type": "slide"
    }
   },
   "source": [
    "## Модели биграм в NLTK"
   ]
  },
  {
   "cell_type": "code",
   "execution_count": 1,
   "metadata": {
    "slideshow": {
     "slide_type": "skip"
    }
   },
   "outputs": [
    {
     "name": "stderr",
     "output_type": "stream",
     "text": [
      "/Library/Frameworks/Python.framework/Versions/3.6/lib/python3.6/site-packages/h5py/__init__.py:36: FutureWarning: Conversion of the second argument of issubdtype from `float` to `np.floating` is deprecated. In future, it will be treated as `np.float64 == np.dtype(float).type`.\n",
      "  from ._conv import register_converters as _register_converters\n",
      "Using TensorFlow backend.\n"
     ]
    }
   ],
   "source": [
    "import nltk\n",
    "\n",
    "from sklearn.utils import shuffle\n",
    "\n",
    "from keras.preprocessing.text import Tokenizer\n",
    "from keras.preprocessing.sequence import pad_sequences\n",
    "from keras.layers import LSTM, TimeDistributed, Bidirectional\n",
    "from keras.models import Sequential\n",
    "from keras.layers import Dense, Activation, Embedding, Flatten, Dropout"
   ]
  },
  {
   "cell_type": "code",
   "execution_count": 3,
   "metadata": {
    "slideshow": {
     "slide_type": "subslide"
    }
   },
   "outputs": [
    {
     "name": "stdout",
     "output_type": "stream",
     "text": [
      "['aachenosaurus', 'aardonyx', 'abdallahsaurus', 'abelisaurus', 'abrictosaurus', 'abrosaurus', 'abydosaurus', 'acanthopholis', 'achelousaurus', 'acheroraptor']\n"
     ]
    }
   ],
   "source": [
    "names = [name.strip().lower() for name in open('data/dinos.txt').readlines()]\n",
    "print(names[:10])"
   ]
  },
  {
   "cell_type": "code",
   "execution_count": 4,
   "metadata": {
    "slideshow": {
     "slide_type": "subslide"
    }
   },
   "outputs": [
    {
     "name": "stdout",
     "output_type": "stream",
     "text": [
      "['a', 'c', 'h', 'e', 'n', 'o', 's', 'u', 'r', 'd', 'y', 'x', 'b', 'l', 'i', 't', 'p', 'v', 'm', 'g', 'f', 'j', 'k', 'w', 'z', 'q']\n"
     ]
    }
   ],
   "source": [
    "chars = [char  for name in names for char in name]\n",
    "freq = nltk.FreqDist(chars)\n",
    "\n",
    "print(list(freq.keys()))"
   ]
  },
  {
   "cell_type": "code",
   "execution_count": 5,
   "metadata": {
    "slideshow": {
     "slide_type": "subslide"
    }
   },
   "outputs": [
    {
     "data": {
      "text/plain": [
       "FreqDist({'a': 26,\n",
       "          'b': 32,\n",
       "          'c': 109,\n",
       "          'd': 41,\n",
       "          'e': 48,\n",
       "          'f': 7,\n",
       "          'g': 44,\n",
       "          'h': 21,\n",
       "          'i': 26,\n",
       "          'j': 8,\n",
       "          'k': 22,\n",
       "          'l': 146,\n",
       "          'm': 74,\n",
       "          'n': 354,\n",
       "          'o': 27,\n",
       "          'p': 96,\n",
       "          'q': 3,\n",
       "          'r': 131,\n",
       "          's': 187,\n",
       "          't': 213,\n",
       "          'u': 792,\n",
       "          'v': 34,\n",
       "          'w': 10,\n",
       "          'x': 12,\n",
       "          'y': 14,\n",
       "          'z': 10})"
      ]
     },
     "execution_count": 5,
     "metadata": {},
     "output_type": "execute_result"
    }
   ],
   "source": [
    "cfreq = nltk.ConditionalFreqDist(nltk.bigrams(chars))\n",
    "cfreq['a']"
   ]
  },
  {
   "cell_type": "code",
   "execution_count": 6,
   "metadata": {
    "slideshow": {
     "slide_type": "subslide"
    }
   },
   "outputs": [
    {
     "name": "stdout",
     "output_type": "stream",
     "text": [
      "p(a a) = 0.0105\n",
      "p(a b) = 0.0129\n",
      "p(a u) = 0.3185\n"
     ]
    }
   ],
   "source": [
    "cprob = nltk.ConditionalProbDist(cfreq, nltk.MLEProbDist)\n",
    "print('p(a a) = %1.4f' %cprob['a'].prob('a'))\n",
    "print('p(a b) = %1.4f' %cprob['a'].prob('b'))\n",
    "print('p(a u) = %1.4f' %cprob['a'].prob('u'))"
   ]
  },
  {
   "cell_type": "code",
   "execution_count": 7,
   "metadata": {},
   "outputs": [
    {
     "data": {
      "text/plain": [
       "-12.041317008359863"
      ]
     },
     "execution_count": 7,
     "metadata": {},
     "output_type": "execute_result"
    }
   ],
   "source": [
    "from math import log\n",
    "log(cprob['a'].prob('a')) + log(cprob['a'].prob('b')) + log(cprob['a'].prob('c'))"
   ]
  },
  {
   "cell_type": "code",
   "execution_count": 8,
   "metadata": {
    "slideshow": {
     "slide_type": "subslide"
    }
   },
   "outputs": [
    {
     "name": "stdout",
     "output_type": "stream",
     "text": [
      "p(a) = 0.1354\n"
     ]
    }
   ],
   "source": [
    "l = sum([freq[char] for char in freq])\n",
    "def unigram_prob(char):\n",
    "    return freq[char] / l\n",
    "print('p(a) = %1.4f' %unigram_prob('a'))"
   ]
  },
  {
   "cell_type": "code",
   "execution_count": 9,
   "metadata": {},
   "outputs": [
    {
     "data": {
      "text/plain": [
       "[('a', 'a'),\n",
       " ('a', 'c'),\n",
       " ('c', 'h'),\n",
       " ('h', 'e'),\n",
       " ('e', 'n'),\n",
       " ('n', 'o'),\n",
       " ('o', 's'),\n",
       " ('s', 'a'),\n",
       " ('a', 'u'),\n",
       " ('u', 'r'),\n",
       " ('r', 'u'),\n",
       " ('u', 's')]"
      ]
     },
     "execution_count": 9,
     "metadata": {},
     "output_type": "execute_result"
    }
   ],
   "source": [
    "[bi for bi in nltk.bigrams('aachenosaurus')]"
   ]
  },
  {
   "cell_type": "markdown",
   "metadata": {
    "slideshow": {
     "slide_type": "subslide"
    }
   },
   "source": [
    "#### Задание 1\n",
    "\n",
    "1. Напишите функцию для оценки вероятности имени динозавра. \n",
    "2. Найдите наиболее вероятное имя динозавра из данного списка. "
   ]
  },
  {
   "cell_type": "code",
   "execution_count": 10,
   "metadata": {
    "slideshow": {
     "slide_type": "subslide"
    }
   },
   "outputs": [
    {
     "data": {
      "text/plain": [
       "'u'"
      ]
     },
     "execution_count": 10,
     "metadata": {},
     "output_type": "execute_result"
    }
   ],
   "source": [
    "cprob[\"a\"].generate()"
   ]
  },
  {
   "cell_type": "markdown",
   "metadata": {
    "slideshow": {
     "slide_type": "subslide"
    }
   },
   "source": [
    "#### Задание 2\n",
    "\n",
    "Напишите функцию для генерации нового имени динозавра фиксированной длины."
   ]
  },
  {
   "cell_type": "markdown",
   "metadata": {
    "slideshow": {
     "slide_type": "slide"
    }
   },
   "source": [
    "## Нейронные языковые модели\n",
    "\n",
    "* Вход: $n$-грамы $w_{1:k}$\n",
    "* $v(w_i)$ – эмбеддинг слова $w_i$, $v(w_i) \\in \\mathbb{R}^{d_{emb}}$, $d_{emb}$ – размерность эмбеддинга, $v(w) = E_{[w]}$\n",
    "* $x = [v(w_1), v(w_2), \\ldots , v(w_k)]$\n",
    "\n",
    "$\\widehat{y} = P(w_i | w_{1:k} ) = \\texttt{LM}(w_{1:k}) = \\texttt{softmax}(hW^2 +b^2)$\n",
    "\n",
    "$h = g(xW^1+b^1)$\n",
    "\n",
    "$w_i \\in V$, $E \\in \\mathbb{R}^{|V|\\times d_{emb}}, W^1 \\in \\mathbb{R}^{k \\cdot d_{emb} \\times d_{hid}}, b^1 \\in \\mathbb{R} ^ {d_{hid}}, W^2 \\in \\mathbb{R}^{d_{hid} \\times |V|}, b^2 \\in \\mathbb{R} ^ {|V|}$"
   ]
  },
  {
   "cell_type": "markdown",
   "metadata": {
    "slideshow": {
     "slide_type": "subslide"
    }
   },
   "source": [
    "![nnlm](img/nlm1.png)"
   ]
  },
  {
   "cell_type": "markdown",
   "metadata": {
    "slideshow": {
     "slide_type": "subslide"
    }
   },
   "source": [
    "### Семплирование в нейронных языковых моделях \n",
    "### (Генерация текстов с помощью нейронных языковых моделей)\n",
    "\n",
    "1. Задать начальную последовательность символов длины $k$ (/слов)\n",
    "2. Предсказать распределение вероятностей слов с условием на $k$ предыдущих слов\n",
    "3. 1. Выбрать слово с наибольшей вероятностью\n",
    "3. 2. Выбрать слово по предсказаному распределению\n",
    "4. Сдвинуть окно на одно слово и повторить \n",
    "\n",
    "#### Линейный поиск  (beam search)\n",
    "Всегда помним $h$ наиболее вероятных гипотез:\n",
    "1. Для генерации первого слова в последоватительности генерируем $h$ кандидатов, а не 1\n",
    "2. Генерируем $h \\times h$ кандидатов для второго слова и храним только $h$ наиболее вероятных\n"
   ]
  },
  {
   "cell_type": "markdown",
   "metadata": {
    "slideshow": {
     "slide_type": "subslide"
    }
   },
   "source": [
    "![nnlm](img/nlm2.png)"
   ]
  },
  {
   "cell_type": "code",
   "execution_count": 11,
   "metadata": {
    "slideshow": {
     "slide_type": "subslide"
    }
   },
   "outputs": [
    {
     "name": "stdout",
     "output_type": "stream",
     "text": [
      "total chars: 26\n"
     ]
    }
   ],
   "source": [
    "alphabet = list(set(chars))\n",
    "print('total chars:', len(alphabet))"
   ]
  },
  {
   "cell_type": "code",
   "execution_count": 12,
   "metadata": {
    "slideshow": {
     "slide_type": "subslide"
    }
   },
   "outputs": [
    {
     "name": "stdout",
     "output_type": "stream",
     "text": [
      "nb ngrams: 10701\n",
      "a a c h e n\n",
      "a c h e n o\n"
     ]
    }
   ],
   "source": [
    "maxlen = 5\n",
    "step = 1\n",
    "ngrams = []\n",
    "next_chars = []\n",
    "for name in names:\n",
    "    for i in range(0, len(name) - maxlen, step):\n",
    "        ngrams.append(' '.join([char for char in name[i: i + maxlen]]))\n",
    "        next_chars.append(name[i + maxlen])\n",
    "print('nb ngrams:', len(ngrams))\n",
    "print(ngrams[0],next_chars[0])\n",
    "print(ngrams[1],next_chars[1])"
   ]
  },
  {
   "cell_type": "code",
   "execution_count": 13,
   "metadata": {
    "slideshow": {
     "slide_type": "subslide"
    }
   },
   "outputs": [
    {
     "data": {
      "text/plain": [
       "array([ 1,  1, 12, 11,  7], dtype=int32)"
      ]
     },
     "execution_count": 13,
     "metadata": {},
     "output_type": "execute_result"
    }
   ],
   "source": [
    "tokenizer = Tokenizer(num_words=len(alphabet))\n",
    "tokenizer.fit_on_texts(ngrams)\n",
    "\n",
    "sequences = tokenizer.texts_to_sequences(ngrams)\n",
    "X_train = pad_sequences(sequences, maxlen=maxlen)\n",
    "sequences = tokenizer.texts_to_sequences(next_chars)\n",
    "y_train = tokenizer.sequences_to_matrix(sequences)\n",
    "X_train[0]"
   ]
  },
  {
   "cell_type": "code",
   "execution_count": 14,
   "metadata": {},
   "outputs": [
    {
     "data": {
      "text/plain": [
       "array([0., 0., 0., 0., 0., 0., 1., 0., 0., 0., 0., 0., 0., 0., 0., 0., 0.,\n",
       "       0., 0., 0., 0., 0., 0., 0., 0., 0.])"
      ]
     },
     "execution_count": 14,
     "metadata": {},
     "output_type": "execute_result"
    }
   ],
   "source": [
    "y_train[0]"
   ]
  },
  {
   "cell_type": "code",
   "execution_count": 15,
   "metadata": {
    "slideshow": {
     "slide_type": "subslide"
    }
   },
   "outputs": [],
   "source": [
    "char_index = tokenizer.word_index\n",
    "index_char = {i: c for c, i in char_index.items()}"
   ]
  },
  {
   "cell_type": "code",
   "execution_count": 16,
   "metadata": {
    "slideshow": {
     "slide_type": "subslide"
    }
   },
   "outputs": [],
   "source": [
    "model = Sequential()\n",
    "\n",
    "model.add(Embedding(len(alphabet), 50, input_length=maxlen))\n",
    "model.add(Flatten())\n",
    "model.add(Dense(64, activation = 'softmax'))\n",
    "model.add(Dropout(0.2))\n",
    "model.add(Dense(32, activation = 'softmax'))\n",
    "model.add(Dropout(0.2))\n",
    "model.add(Dense(len(alphabet), activation = 'softmax'))\n",
    "\n",
    "model.compile(loss='categorical_crossentropy', optimizer='adam', metrics=['accuracy'])"
   ]
  },
  {
   "cell_type": "code",
   "execution_count": 17,
   "metadata": {
    "slideshow": {
     "slide_type": "subslide"
    }
   },
   "outputs": [],
   "source": [
    "for iteration in range(1, 100):\n",
    "    X_train_shuffled, y_train_shuffled = shuffle(X_train,y_train)\n",
    "    model.fit(X_train_shuffled, y_train_shuffled, batch_size=len(X_train), epochs=1, verbose = 0)"
   ]
  },
  {
   "cell_type": "code",
   "execution_count": 18,
   "metadata": {
    "slideshow": {
     "slide_type": "subslide"
    }
   },
   "outputs": [],
   "source": [
    "def sample(preds):\n",
    "    # helper function to sample an index from a probability array\n",
    "    preds = np.asarray(preds).astype('float64')\n",
    "    preds = np.log(preds) #/ temperature\n",
    "    exp_preds = np.exp(preds)\n",
    "    preds = exp_preds / np.sum(exp_preds)\n",
    "    probas = np.random.choice(range(len(alphabet)), p = preds)\n",
    "    return probas"
   ]
  },
  {
   "cell_type": "code",
   "execution_count": 19,
   "metadata": {
    "slideshow": {
     "slide_type": "subslide"
    }
   },
   "outputs": [
    {
     "name": "stdout",
     "output_type": "stream",
     "text": [
      "----- Generating with seed: \"katya\"\n",
      "katya\n",
      "katyao\n",
      "katyaoj\n",
      "katyaojm\n",
      "katyaojmz\n",
      "katyaojmzr\n",
      "katyaojmzrs\n",
      "katyaojmzrst\n",
      "katyaojmzrstk\n"
     ]
    }
   ],
   "source": [
    "import random\n",
    "import sys\n",
    "import numpy as np\n",
    "\n",
    "generated = ''\n",
    "seed = 'katya'\n",
    "generated += seed\n",
    "print('----- Generating with seed: \"' + seed + '\"')\n",
    "print(generated)\n",
    "\n",
    "for i in range(8):\n",
    "    sequences = tokenizer.texts_to_sequences([' '.join([char for char in generated[-maxlen:]])])\n",
    "    X_pred = pad_sequences(sequences, maxlen=maxlen)\n",
    "    preds = model.predict(X_pred, verbose=0)[0]\n",
    "    next_index = sample(preds)\n",
    "    next_char = index_char[next_index]\n",
    "    generated += next_char\n",
    "    print(generated)"
   ]
  },
  {
   "cell_type": "markdown",
   "metadata": {
    "slideshow": {
     "slide_type": "subslide"
    }
   },
   "source": [
    "#### Задание 3\n",
    "\n",
    "Измените код выше так, чтобы генерировались панграмы – имена динозавров, не содержащие повторяющихся букв"
   ]
  },
  {
   "cell_type": "markdown",
   "metadata": {
    "slideshow": {
     "slide_type": "subslide"
    }
   },
   "source": [
    "#### Задание 4\n",
    "\n",
    "Измените функцию семлирования `sample`: добавьте параметр `t`, изпольузуемый для шкалирования вероятностей  `preds`: ```\n",
    "preds /= t\n",
    "``` \n",
    "\n",
    "Как использование этого параметра влияет на генерируемые имена?"
   ]
  },
  {
   "cell_type": "markdown",
   "metadata": {
    "slideshow": {
     "slide_type": "slide"
    }
   },
   "source": [
    "### Рекуррентные нейронные языковые модели\n",
    "\n",
    "RNN позволяют уйти от Марковских допущений и позволяют учитывать предысторию произвольной длины.\n",
    "\n",
    "$x_{1:n} = x_1, x_2, \\ldots, x_n$, $x_i \\in \\mathbb{R}^{d_{in}}$\n",
    "\n",
    "$y_n = RNN(x_{1:n})$, $y_n \\in \\mathbb{R}^{d_{out}}$\n",
    "\n",
    "Для каждого префикса $x_{i:i}$ $y_i$ – выходной вектор.\n",
    "\n",
    "$y_i = RNN(x_{1:i})$\n",
    "\n",
    "$y_{1:n} = RNN^{*}(x_{1:n})$, $y_i \\in \\mathbb{R}^{d_{out}}$"
   ]
  },
  {
   "cell_type": "markdown",
   "metadata": {
    "slideshow": {
     "slide_type": "subslide"
    }
   },
   "source": [
    "![rnn](img/rnn1.png)"
   ]
  },
  {
   "cell_type": "markdown",
   "metadata": {
    "slideshow": {
     "slide_type": "subslide"
    }
   },
   "source": [
    "$R$ –  рекурсивная функция с двумя входами: $x_i$ и $s_{i-1}$ (вектор состояния)\n",
    "\n",
    "$RNN^{*}(x_{1:n}, s_0) = y_{1:n}$\n",
    "\n",
    "$y_i = O(s_i)$\n",
    "\n",
    "$s_i = R(s_{i-1}, x_i)$\n",
    "\n",
    "$s_i = R(s_{i-1}, x_i) = g(s_{i-1}* W^s + x_i W^x +b$\n",
    "\n",
    "$x_i \\in \\mathbb{R}^{d_{in}}$, $y_i \\in \\mathbb{R}^{d_{out}}$, $s_i \\in \\mathbb{R}^{d_{out}}$\n",
    "\n",
    "$W^x \\in \\mathbb{R}^{d_{in} \\times d_{in}}$, $W^s \\in \\mathbb{R}^{d_{out} \\times d_{out}}$"
   ]
  },
  {
   "cell_type": "markdown",
   "metadata": {
    "slideshow": {
     "slide_type": "subslide"
    }
   },
   "source": [
    "#### Обучение RNN: backpropogation through time (BPTT)\n",
    "\n",
    "![rnn](img/rnn3.png)"
   ]
  },
  {
   "cell_type": "markdown",
   "metadata": {
    "slideshow": {
     "slide_type": "subslide"
    }
   },
   "source": [
    "#### Сценарии использования RNN\n",
    "\n",
    "* Acceptor: только $y_n$, используемый для дальнейшего предсказания / классификации\n",
    "\n",
    "![rnn](img/rnn5.png)\n"
   ]
  },
  {
   "cell_type": "markdown",
   "metadata": {
    "slideshow": {
     "slide_type": "subslide"
    }
   },
   "source": [
    "* Encoder: только $y_n$\n",
    "\n",
    "![rnn](img/rnn5.png)"
   ]
  },
  {
   "cell_type": "markdown",
   "metadata": {
    "slideshow": {
     "slide_type": "subslide"
    }
   },
   "source": [
    "* Transducer: выход $t_i$ для каждого входа $x_{1:i}$ – языковые модели,  sequence labelling\n",
    "\n",
    "![rnn](img/rnn2.png)"
   ]
  },
  {
   "cell_type": "markdown",
   "metadata": {
    "slideshow": {
     "slide_type": "subslide"
    }
   },
   "source": [
    "#### Двунаправленная рекуррентная нейронная сеть\n",
    "\n",
    "$x_{1:n}$ – входная последовательность\n",
    "\n",
    "$s_i^f$ –  \"прошлое / прямое состояние\" – основано на $x_{1:i}$\n",
    "\n",
    "$s_i^b$ –  \"будущее / обратное состояние\" – основано на $x_{n:i}$\n",
    "\n",
    "$y_i = [O(s_i^f), O(s_i^b)] = [y_i^f, y_i^b]$\n",
    "\n",
    "![rnn](img/birnn.png)"
   ]
  },
  {
   "cell_type": "markdown",
   "metadata": {
    "slideshow": {
     "slide_type": "subslide"
    }
   },
   "source": [
    "#### Управляемые архитектуры\n",
    "\n",
    "RNN трудно обучать: проблема исчезающего градиента. Уйти от нее помогают управляемые нейроны специального вида: LSTM и GRU.\n",
    "\n",
    "$s_i$ – память нейронной сети. Каждое использование $R$ считывает и видоизменяет всю память. \n",
    "\n",
    "Управляемый доступ к памяти: $g \\in {0,1}^n$:\n",
    "\n",
    "$s_{i+1} \\leftarrow g \\odot x + (1-g) \\odot s_{i}$\n",
    "\n",
    "Дифференцируемое управление:\n",
    "\n",
    "$g \\in \\mathbb{R}^n $:\n",
    "\n",
    "$s_{i+1} \\leftarrow \\sigma(g) \\odot x + (1-g) \\odot s_{i}$\n",
    "\n",
    "http://colah.github.io/posts/2015-08-Understanding-LSTMs/\n",
    "    "
   ]
  },
  {
   "cell_type": "code",
   "execution_count": 132,
   "metadata": {
    "slideshow": {
     "slide_type": "subslide"
    }
   },
   "outputs": [],
   "source": [
    "from keras.utils import to_categorical\n",
    "import numpy as np\n",
    "\n",
    "X_names = ['< ' + ' '.join(name) for name in names]\n",
    "Y_names = [' '.join(name) + ' >' for name in names]\n",
    "maxlen = max([len(name) for name in names])+1"
   ]
  },
  {
   "cell_type": "code",
   "execution_count": 133,
   "metadata": {},
   "outputs": [
    {
     "data": {
      "text/plain": [
       "'< a a r d o n y x'"
      ]
     },
     "execution_count": 133,
     "metadata": {},
     "output_type": "execute_result"
    }
   ],
   "source": [
    "X_names[1]"
   ]
  },
  {
   "cell_type": "code",
   "execution_count": 139,
   "metadata": {
    "slideshow": {
     "slide_type": "subslide"
    }
   },
   "outputs": [],
   "source": [
    "tokenizer = Tokenizer(num_words=len(alphabet) + 2, filters = '')\n",
    "tokenizer.fit_on_texts(X_names+Y_names)\n",
    "\n",
    "sequences = tokenizer.texts_to_sequences(X_names)\n",
    "X_train = pad_sequences(sequences, maxlen=maxlen, padding='post', value = tokenizer.word_index['>'])\n",
    "\n",
    "\n",
    "sequences = tokenizer.texts_to_sequences(Y_names)\n",
    "Y_train = pad_sequences(sequences, padding='post')\n",
    "\n",
    "\n",
    "Y_train_cat  = [to_categorical(sent, num_classes=len(alphabet)+2) for sent in Y_train]\n",
    "Y_train =  np.asarray(Y_train_cat)"
   ]
  },
  {
   "cell_type": "code",
   "execution_count": 140,
   "metadata": {
    "slideshow": {
     "slide_type": "subslide"
    }
   },
   "outputs": [
    {
     "name": "stdout",
     "output_type": "stream",
     "text": [
      "< a a c h e n o s a u r u s\n",
      "a a c h e n o s a u r u s >\n",
      "[10  1  1 15 14  8  6  4  2  1  3  5  3  2 11 11 11 11 11 11 11 11 11 11\n",
      " 11 11 11]\n",
      "(1536, 27)\n",
      "(1536, 27, 28)\n",
      "10\n",
      "11\n"
     ]
    }
   ],
   "source": [
    "print(X_names[0])\n",
    "print(Y_names[0])\n",
    "\n",
    "print(X_train[0])\n",
    "\n",
    "\n",
    "print(X_train.shape)\n",
    "print(Y_train.shape)\n",
    "\n",
    "print(tokenizer.word_index['<'])\n",
    "print(tokenizer.word_index['>'])"
   ]
  },
  {
   "cell_type": "code",
   "execution_count": 141,
   "metadata": {
    "slideshow": {
     "slide_type": "subslide"
    }
   },
   "outputs": [],
   "source": [
    "char_index = tokenizer.word_index\n",
    "index_char = {i: c for c, i in char_index.items()}"
   ]
  },
  {
   "cell_type": "code",
   "execution_count": 142,
   "metadata": {
    "slideshow": {
     "slide_type": "subslide"
    }
   },
   "outputs": [],
   "source": [
    "model = Sequential()\n",
    "\n",
    "model.add(Embedding(len(alphabet)+3, 100, input_length=maxlen, trainable = True))\n",
    "model.add(LSTM(128, return_sequences = True))\n",
    "model.add(TimeDistributed(Dense(len(alphabet)+2, activation = 'softmax')))\n",
    "model.compile(loss='categorical_crossentropy', optimizer='adam', metrics=['accuracy'])"
   ]
  },
  {
   "cell_type": "code",
   "execution_count": 143,
   "metadata": {
    "scrolled": true,
    "slideshow": {
     "slide_type": "subslide"
    }
   },
   "outputs": [
    {
     "name": "stdout",
     "output_type": "stream",
     "text": [
      "Epoch 1/1\n",
      "1536/1536 [==============================] - 2s 2ms/step - loss: 3.3296 - acc: 0.0228\n",
      "Epoch 1/1\n",
      "1536/1536 [==============================] - 1s 590us/step - loss: 3.3007 - acc: 0.5434\n",
      "Epoch 1/1\n",
      "1536/1536 [==============================] - 1s 767us/step - loss: 3.2708 - acc: 0.5279\n",
      "Epoch 1/1\n",
      "1536/1536 [==============================] - 1s 713us/step - loss: 3.2382 - acc: 0.5205\n",
      "Epoch 1/1\n",
      "1536/1536 [==============================] - 1s 716us/step - loss: 3.2008 - acc: 0.5205\n",
      "Epoch 1/1\n",
      "1536/1536 [==============================] - 1s 606us/step - loss: 3.1559 - acc: 0.5205\n",
      "Epoch 1/1\n",
      "1536/1536 [==============================] - 1s 599us/step - loss: 3.0997 - acc: 0.5205\n",
      "Epoch 1/1\n",
      "1536/1536 [==============================] - 1s 605us/step - loss: 3.0268 - acc: 0.5205\n",
      "Epoch 1/1\n",
      "1536/1536 [==============================] - 1s 597us/step - loss: 2.9290 - acc: 0.5205\n",
      "Epoch 1/1\n",
      "1536/1536 [==============================] - 1s 616us/step - loss: 2.7941 - acc: 0.5205\n",
      "Epoch 1/1\n",
      "1536/1536 [==============================] - 1s 609us/step - loss: 2.6065 - acc: 0.5205\n",
      "Epoch 1/1\n",
      "1536/1536 [==============================] - 1s 635us/step - loss: 2.3593 - acc: 0.5205\n",
      "Epoch 1/1\n",
      "1536/1536 [==============================] - 1s 608us/step - loss: 2.0897 - acc: 0.5205\n",
      "Epoch 1/1\n",
      "1536/1536 [==============================] - 1s 622us/step - loss: 1.8724 - acc: 0.5205\n",
      "Epoch 1/1\n",
      "1536/1536 [==============================] - 1s 601us/step - loss: 1.7489 - acc: 0.5205\n",
      "Epoch 1/1\n",
      "1536/1536 [==============================] - 1s 600us/step - loss: 1.7249 - acc: 0.5205\n",
      "Epoch 1/1\n",
      "1536/1536 [==============================] - 1s 604us/step - loss: 1.7742 - acc: 0.5205\n",
      "Epoch 1/1\n",
      "1536/1536 [==============================] - 1s 621us/step - loss: 1.8428 - acc: 0.5205\n",
      "Epoch 1/1\n",
      "1536/1536 [==============================] - 1s 621us/step - loss: 1.8884 - acc: 0.5205\n",
      "Epoch 1/1\n",
      "1536/1536 [==============================] - 1s 601us/step - loss: 1.8981 - acc: 0.5205\n",
      "Epoch 1/1\n",
      "1536/1536 [==============================] - 1s 604us/step - loss: 1.8761 - acc: 0.5205\n",
      "Epoch 1/1\n",
      "1536/1536 [==============================] - 1s 612us/step - loss: 1.8327 - acc: 0.5205\n",
      "Epoch 1/1\n",
      "1536/1536 [==============================] - 1s 600us/step - loss: 1.7792 - acc: 0.5205\n",
      "Epoch 1/1\n",
      "1536/1536 [==============================] - 1s 611us/step - loss: 1.7262 - acc: 0.5205\n",
      "Epoch 1/1\n",
      "1536/1536 [==============================] - 1s 601us/step - loss: 1.6825 - acc: 0.5205\n",
      "Epoch 1/1\n",
      "1536/1536 [==============================] - 1s 601us/step - loss: 1.6540 - acc: 0.5205\n",
      "Epoch 1/1\n",
      "1536/1536 [==============================] - 1s 607us/step - loss: 1.6421 - acc: 0.5205\n",
      "Epoch 1/1\n",
      "1536/1536 [==============================] - 1s 618us/step - loss: 1.6440 - acc: 0.5205\n",
      "Epoch 1/1\n",
      "1536/1536 [==============================] - 1s 637us/step - loss: 1.6538 - acc: 0.5205\n",
      "Epoch 1/1\n",
      "1536/1536 [==============================] - 1s 679us/step - loss: 1.6650 - acc: 0.5205\n",
      "Epoch 1/1\n",
      "1536/1536 [==============================] - 1s 732us/step - loss: 1.6720 - acc: 0.5217\n",
      "Epoch 1/1\n",
      "1536/1536 [==============================] - 1s 629us/step - loss: 1.6722 - acc: 0.5217\n",
      "Epoch 1/1\n",
      "1536/1536 [==============================] - 1s 775us/step - loss: 1.6650 - acc: 0.5218\n",
      "Epoch 1/1\n",
      "1536/1536 [==============================] - 1s 752us/step - loss: 1.6518 - acc: 0.5219\n",
      "Epoch 1/1\n",
      "1536/1536 [==============================] - 1s 807us/step - loss: 1.6350 - acc: 0.5218\n",
      "Epoch 1/1\n",
      "1536/1536 [==============================] - 1s 632us/step - loss: 1.6176 - acc: 0.5217\n",
      "Epoch 1/1\n",
      "1536/1536 [==============================] - 1s 605us/step - loss: 1.6020 - acc: 0.5217\n",
      "Epoch 1/1\n",
      "1536/1536 [==============================] - 1s 615us/step - loss: 1.5902 - acc: 0.5217\n",
      "Epoch 1/1\n",
      "1536/1536 [==============================] - 1s 603us/step - loss: 1.5831 - acc: 0.5215\n",
      "Epoch 1/1\n",
      "1536/1536 [==============================] - 1s 621us/step - loss: 1.5800 - acc: 0.5215\n",
      "Epoch 1/1\n",
      "1536/1536 [==============================] - 1s 594us/step - loss: 1.5796 - acc: 0.5215\n",
      "Epoch 1/1\n",
      "1536/1536 [==============================] - 1s 603us/step - loss: 1.5801 - acc: 0.5215\n",
      "Epoch 1/1\n",
      "1536/1536 [==============================] - 1s 595us/step - loss: 1.5797 - acc: 0.5215\n",
      "Epoch 1/1\n",
      "1536/1536 [==============================] - 1s 597us/step - loss: 1.5772 - acc: 0.5215\n",
      "Epoch 1/1\n",
      "1536/1536 [==============================] - 1s 640us/step - loss: 1.5723 - acc: 0.5215\n",
      "Epoch 1/1\n",
      "1536/1536 [==============================] - 1s 633us/step - loss: 1.5652 - acc: 0.5217\n",
      "Epoch 1/1\n",
      "1536/1536 [==============================] - 1s 763us/step - loss: 1.5568 - acc: 0.5217\n",
      "Epoch 1/1\n",
      "1536/1536 [==============================] - 1s 740us/step - loss: 1.5485 - acc: 0.5218\n",
      "Epoch 1/1\n",
      "1536/1536 [==============================] - 1s 775us/step - loss: 1.5412 - acc: 0.5223\n",
      "Epoch 1/1\n",
      "1536/1536 [==============================] - 1s 738us/step - loss: 1.5355 - acc: 0.5228\n",
      "Epoch 1/1\n",
      "1536/1536 [==============================] - 1s 785us/step - loss: 1.5315 - acc: 0.5234\n",
      "Epoch 1/1\n",
      "1536/1536 [==============================] - 1s 675us/step - loss: 1.5287 - acc: 0.5236\n",
      "Epoch 1/1\n",
      "1536/1536 [==============================] - 1s 660us/step - loss: 1.5265 - acc: 0.5238\n",
      "Epoch 1/1\n",
      "1536/1536 [==============================] - 1s 889us/step - loss: 1.5240 - acc: 0.5244\n",
      "Epoch 1/1\n",
      "1536/1536 [==============================] - 1s 676us/step - loss: 1.5205 - acc: 0.5246\n",
      "Epoch 1/1\n",
      "1536/1536 [==============================] - 1s 738us/step - loss: 1.5160 - acc: 0.5254\n",
      "Epoch 1/1\n",
      "1536/1536 [==============================] - 1s 740us/step - loss: 1.5105 - acc: 0.5258\n",
      "Epoch 1/1\n",
      "1536/1536 [==============================] - 1s 841us/step - loss: 1.5047 - acc: 0.5262\n",
      "Epoch 1/1\n",
      "1536/1536 [==============================] - 1s 904us/step - loss: 1.4992 - acc: 0.5263\n",
      "Epoch 1/1\n",
      "1536/1536 [==============================] - 2s 998us/step - loss: 1.4944 - acc: 0.5265\n",
      "Epoch 1/1\n",
      "1536/1536 [==============================] - 2s 1ms/step - loss: 1.4904 - acc: 0.5266\n",
      "Epoch 1/1\n",
      "1536/1536 [==============================] - 2s 1ms/step - loss: 1.4871 - acc: 0.5268\n",
      "Epoch 1/1\n",
      "1536/1536 [==============================] - 2s 1ms/step - loss: 1.4839 - acc: 0.5272\n",
      "Epoch 1/1\n",
      "1536/1536 [==============================] - 2s 1ms/step - loss: 1.4804 - acc: 0.5287\n",
      "Epoch 1/1\n",
      "1536/1536 [==============================] - 1s 915us/step - loss: 1.4764 - acc: 0.5300\n",
      "Epoch 1/1\n",
      "1536/1536 [==============================] - 2s 1ms/step - loss: 1.4719 - acc: 0.5328\n",
      "Epoch 1/1\n",
      "1536/1536 [==============================] - 1s 904us/step - loss: 1.4672 - acc: 0.5372\n",
      "Epoch 1/1\n",
      "1536/1536 [==============================] - 1s 845us/step - loss: 1.4629 - acc: 0.5434\n",
      "Epoch 1/1\n",
      "1536/1536 [==============================] - 1s 815us/step - loss: 1.4592 - acc: 0.5501\n",
      "Epoch 1/1\n",
      "1536/1536 [==============================] - 1s 862us/step - loss: 1.4560 - acc: 0.5556\n",
      "Epoch 1/1\n",
      "1536/1536 [==============================] - 1s 800us/step - loss: 1.4530 - acc: 0.5586\n",
      "Epoch 1/1\n",
      "1536/1536 [==============================] - 1s 891us/step - loss: 1.4496 - acc: 0.5616\n",
      "Epoch 1/1\n",
      "1536/1536 [==============================] - 1s 773us/step - loss: 1.4459 - acc: 0.5626\n",
      "Epoch 1/1\n",
      "1536/1536 [==============================] - 1s 755us/step - loss: 1.4419 - acc: 0.5630\n",
      "Epoch 1/1\n",
      "1536/1536 [==============================] - 1s 785us/step - loss: 1.4380 - acc: 0.5631\n",
      "Epoch 1/1\n",
      "1536/1536 [==============================] - 2s 1ms/step - loss: 1.4345 - acc: 0.5640\n",
      "Epoch 1/1\n",
      "1536/1536 [==============================] - 1s 725us/step - loss: 1.4313 - acc: 0.5639\n",
      "Epoch 1/1\n",
      "1536/1536 [==============================] - 2s 997us/step - loss: 1.4282 - acc: 0.5645\n",
      "Epoch 1/1\n",
      "1536/1536 [==============================] - 1s 795us/step - loss: 1.4250 - acc: 0.5688\n",
      "Epoch 1/1\n",
      "1536/1536 [==============================] - 1s 772us/step - loss: 1.4216 - acc: 0.5705\n",
      "Epoch 1/1\n",
      "1536/1536 [==============================] - 2s 1ms/step - loss: 1.4180 - acc: 0.5741\n",
      "Epoch 1/1\n",
      "1536/1536 [==============================] - 1s 937us/step - loss: 1.4148 - acc: 0.5798\n",
      "Epoch 1/1\n",
      "1536/1536 [==============================] - 1s 773us/step - loss: 1.4119 - acc: 0.5852\n",
      "Epoch 1/1\n",
      "1536/1536 [==============================] - 1s 699us/step - loss: 1.4090 - acc: 0.5882\n"
     ]
    },
    {
     "name": "stdout",
     "output_type": "stream",
     "text": [
      "Epoch 1/1\n",
      "1536/1536 [==============================] - 1s 796us/step - loss: 1.4059 - acc: 0.5897\n",
      "Epoch 1/1\n",
      "1536/1536 [==============================] - 1s 892us/step - loss: 1.4026 - acc: 0.5896\n",
      "Epoch 1/1\n",
      "1536/1536 [==============================] - 1s 792us/step - loss: 1.3994 - acc: 0.5883\n",
      "Epoch 1/1\n",
      "1536/1536 [==============================] - 3s 2ms/step - loss: 1.3966 - acc: 0.5875\n",
      "Epoch 1/1\n",
      "1536/1536 [==============================] - 2s 1ms/step - loss: 1.3938 - acc: 0.5878\n",
      "Epoch 1/1\n",
      "1536/1536 [==============================] - 1s 870us/step - loss: 1.3908 - acc: 0.5892\n",
      "Epoch 1/1\n",
      "1536/1536 [==============================] - 1s 782us/step - loss: 1.3876 - acc: 0.5916\n",
      "Epoch 1/1\n",
      "1536/1536 [==============================] - 1s 829us/step - loss: 1.3847 - acc: 0.5948\n",
      "Epoch 1/1\n",
      "1536/1536 [==============================] - 1s 701us/step - loss: 1.3819 - acc: 0.5974\n",
      "Epoch 1/1\n",
      "1536/1536 [==============================] - 1s 748us/step - loss: 1.3791 - acc: 0.5987\n",
      "Epoch 1/1\n",
      "1536/1536 [==============================] - 1s 955us/step - loss: 1.3760 - acc: 0.5988\n",
      "Epoch 1/1\n",
      "1536/1536 [==============================] - 1s 894us/step - loss: 1.3730 - acc: 0.5982\n",
      "Epoch 1/1\n",
      "1536/1536 [==============================] - 1s 889us/step - loss: 1.3702 - acc: 0.5978\n",
      "Epoch 1/1\n",
      "1536/1536 [==============================] - 1s 656us/step - loss: 1.3674 - acc: 0.5989\n",
      "Epoch 1/1\n",
      "1536/1536 [==============================] - 1s 612us/step - loss: 1.3644 - acc: 0.6015\n"
     ]
    }
   ],
   "source": [
    "for iteration in range(1, 100):\n",
    "    X_train_shuffled, y_train_shuffled = shuffle(X_train, Y_train)\n",
    "    model.fit(X_train_shuffled, y_train_shuffled, batch_size=len(X_train), epochs=1, verbose = 1)"
   ]
  },
  {
   "cell_type": "code",
   "execution_count": 144,
   "metadata": {
    "slideshow": {
     "slide_type": "subslide"
    }
   },
   "outputs": [],
   "source": [
    "def sample(preds):\n",
    "    # helper function to sample an index from a probability array\n",
    "    preds = np.asarray(preds).astype('float64')\n",
    "    preds = np.log(preds) #/ temperature\n",
    "    exp_preds = np.exp(preds)\n",
    "    preds = exp_preds / np.sum(exp_preds)\n",
    "    probas = np.random.choice(range(len(alphabet)+2), p = preds)\n",
    "    return probas"
   ]
  },
  {
   "cell_type": "code",
   "execution_count": 149,
   "metadata": {
    "slideshow": {
     "slide_type": "subslide"
    }
   },
   "outputs": [
    {
     "name": "stdout",
     "output_type": "stream",
     "text": [
      "----- Generating with seed: \"<\"\n",
      "< \n",
      "< x \n",
      "< x a \n",
      "< x a f \n",
      "< x a f k \n",
      "< x a f k o \n",
      "< x a f k o i \n",
      "< x a f k o i s \n",
      "< x a f k o i s h \n",
      "< x a f k o i s h a \n",
      "< x a f k o i s h a e \n",
      "< x a f k o i s h a e m \n",
      "< x a f k o i s h a e m l \n",
      "< x a f k o i s h a e m l o \n",
      "< x a f k o i s h a e m l o r \n",
      "< x a f k o i s h a e m l o r u \n"
     ]
    }
   ],
   "source": [
    "generated = ''\n",
    "seed = '<'\n",
    "generated += seed + ' '\n",
    "print('----- Generating with seed: \"' + seed + '\"')\n",
    "print(generated)\n",
    "\n",
    "\n",
    "for i in range(15): \n",
    "    sequences = tokenizer.texts_to_sequences([seed])\n",
    "    X_pred = pad_sequences(sequences, maxlen=maxlen, padding = 'post')\n",
    "\n",
    "    preds = model.predict(X_pred, verbose=0)[0]\n",
    "    samples = [sample(p) for p in preds]\n",
    "    next_index = samples[i]\n",
    "    next_char = index_char[next_index+1]\n",
    "    generated += next_char + ' '\n",
    "    print(generated)\n",
    "    seed += next_char\n",
    "    if next_char == '>':\n",
    "        break\n",
    "    "
   ]
  },
  {
   "cell_type": "code",
   "execution_count": 118,
   "metadata": {},
   "outputs": [
    {
     "data": {
      "text/plain": [
       "{1: 'a',\n",
       " 2: 's',\n",
       " 3: 'u',\n",
       " 4: 'o',\n",
       " 5: 'r',\n",
       " 6: 'n',\n",
       " 7: 'i',\n",
       " 8: 'e',\n",
       " 9: 't',\n",
       " 10: '<',\n",
       " 11: '>',\n",
       " 12: 'l',\n",
       " 13: 'p',\n",
       " 14: 'h',\n",
       " 15: 'c',\n",
       " 16: 'g',\n",
       " 17: 'd',\n",
       " 18: 'm',\n",
       " 19: 'y',\n",
       " 20: 'b',\n",
       " 21: 'k',\n",
       " 22: 'v',\n",
       " 23: 'x',\n",
       " 24: 'z',\n",
       " 25: 'j',\n",
       " 26: 'w',\n",
       " 27: 'f',\n",
       " 28: 'q'}"
      ]
     },
     "execution_count": 118,
     "metadata": {},
     "output_type": "execute_result"
    }
   ],
   "source": [
    "index_char"
   ]
  },
  {
   "cell_type": "markdown",
   "metadata": {
    "slideshow": {
     "slide_type": "subslide"
    }
   },
   "source": [
    "#### Задание 5\n",
    "\n",
    "Измените функцию семлирования `sample`: сейчас в ней используется простой выбор наиболее вероятного следующего элемента. Замените его на лучевой поиск [beam search].\n",
    "\n",
    "Как использование этой функции семплирования влияет на генерируемые имена?"
   ]
  },
  {
   "cell_type": "code",
   "execution_count": null,
   "metadata": {
    "slideshow": {
     "slide_type": "subslide"
    }
   },
   "outputs": [],
   "source": [
    "# решение 1.1\n",
    "def name_prob(name):\n",
    "    p = unigram_prob(name[0])\n",
    "    for i in range(len(name)-1):\n",
    "        p *=  cprob[name[i]].prob(name[i+1])\n",
    "    return p\n",
    "\n",
    "name_prob(names[0])"
   ]
  },
  {
   "cell_type": "code",
   "execution_count": null,
   "metadata": {
    "slideshow": {
     "slide_type": "skip"
    }
   },
   "outputs": [],
   "source": [
    "# решение 2\n",
    "def generate_name(cprob, first_char, num_chars):\n",
    "    name = ''\n",
    "    name += first_char\n",
    "    for i in range(num_chars):\n",
    "        char = cprob[first_char].generate()\n",
    "        name += char\n",
    "        first_char = char\n",
    "    return name\n",
    "\n",
    "generate_name(cprob, 't', 9)"
   ]
  },
  {
   "cell_type": "code",
   "execution_count": null,
   "metadata": {
    "slideshow": {
     "slide_type": "skip"
    }
   },
   "outputs": [],
   "source": [
    "# решение 3\n",
    "for i in range(5):\n",
    "    sequences = tokenizer.texts_to_sequences([' '.join([char for char in generated[-maxlen:]])])\n",
    "    X_pred = pad_sequences(sequences, maxlen=maxlen)\n",
    "    preds = model.predict(X_pred, verbose=0)[0]\n",
    "    next_index = sample(preds)\n",
    "    next_char = index_char[next_index]\n",
    "    if next_char not in generated:\n",
    "        generated += next_char\n",
    "        print(generated)\n",
    "    else:\n",
    "        preds[next_index] = 10e-5\n",
    "        next_index = sample(preds)\n",
    "        next_char = index_char[next_index]\n",
    "        generated += next_char\n",
    "        print(generated)"
   ]
  },
  {
   "cell_type": "code",
   "execution_count": null,
   "metadata": {
    "slideshow": {
     "slide_type": "skip"
    }
   },
   "outputs": [],
   "source": [
    "# решение 4\n",
    "def sample(preds, t=1.2):\n",
    "    # helper function to sample an index from a probability array\n",
    "    preds = np.asarray(preds).astype('float64')\n",
    "    preds = np.log(preds) / t\n",
    "    exp_preds = np.exp(preds)\n",
    "    preds = exp_preds / np.sum(exp_preds)\n",
    "    probas = np.random.choice(range(len(alphabet)), p = preds)\n",
    "    return probas"
   ]
  }
 ],
 "metadata": {
  "celltoolbar": "Slideshow",
  "kernelspec": {
   "display_name": "Python 3",
   "language": "python",
   "name": "python3"
  },
  "language_info": {
   "codemirror_mode": {
    "name": "ipython",
    "version": 3
   },
   "file_extension": ".py",
   "mimetype": "text/x-python",
   "name": "python",
   "nbconvert_exporter": "python",
   "pygments_lexer": "ipython3",
   "version": "3.6.0"
  }
 },
 "nbformat": 4,
 "nbformat_minor": 2
}
