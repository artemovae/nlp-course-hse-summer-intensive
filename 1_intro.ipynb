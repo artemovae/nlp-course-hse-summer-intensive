{
 "cells": [
  {
   "cell_type": "markdown",
   "metadata": {
    "slideshow": {
     "slide_type": "slide"
    }
   },
   "source": [
    "# Автоматическая обработка текстов\n",
    "\n",
    "## Екатерина Черняк\n",
    "\n",
    "###  ФКН НИУ ВШЭ\n",
    "\n",
    "### echernyak@hse.ru"
   ]
  },
  {
   "cell_type": "markdown",
   "metadata": {
    "slideshow": {
     "slide_type": "slide"
    }
   },
   "source": [
    "# Введение"
   ]
  },
  {
   "cell_type": "markdown",
   "metadata": {
    "slideshow": {
     "slide_type": "subslide"
    }
   },
   "source": [
    "## Краткая история \n",
    "\n",
    "теоретическая лингвистика – корпусная лингвистика – ML & DL эра"
   ]
  },
  {
   "cell_type": "markdown",
   "metadata": {
    "slideshow": {
     "slide_type": "subslide"
    }
   },
   "source": [
    "## Основные задачи\n",
    "* Машинный перевод\n",
    "* Классификация текстов\n",
    "    * Фильтрация спама\n",
    "    * По тональности\n",
    "    * По теме или жанру\n",
    "* Кластеризация текстов\n",
    "* Извлечение информации\n",
    "    * Фактов и событий\n",
    "    * Именованных сущностей\n",
    "* Вопросно-ответные системы\n",
    "* Суммаризация текстов\n",
    "* Генерация текстов\n",
    "* Распознавание речи\n",
    "* Проверка правописания\n",
    "* Оптическое распознавание символов\n",
    "* Пользовательские эксперименты и оценка точности и качества методов"
   ]
  },
  {
   "cell_type": "markdown",
   "metadata": {
    "slideshow": {
     "slide_type": "subslide"
    }
   },
   "source": [
    "## Основные техники \n",
    "* Уровень символов:\n",
    "    * Токенизация: разбиение текста на слова\n",
    "    * Разбиение текста на предложения\n",
    "* Уровень слов – морфология:\n",
    "    * Разметка частей речи\n",
    "    * Снятие морфологической неоднозначности\n",
    "* Уровень предложений – синтаксис:\n",
    "    * Выделенние именных или глагольных групп (chunking)\n",
    "    * Выделенние семантических ролей\n",
    "    * Деревья составляющих и зависимостей\n",
    "* Уровень смысла – семантика и дискурс:\n",
    "    * Разрешение кореферентных связей\n",
    "    * Выделение синонимов\n",
    "    * Анализ аргументативных связей"
   ]
  },
  {
   "cell_type": "markdown",
   "metadata": {
    "slideshow": {
     "slide_type": "subslide"
    }
   },
   "source": [
    "## Основные проблемы\n",
    "* Неоднозначность\n",
    "    * Лексическая неоднозначность: *орган, парить, рожки, атлас*\n",
    "    * Морфологическая неоднозначность: *Хранение денег в банке. Что делают белки в клетке?*\n",
    "    * Синтаксическая неоднозначность: *Мужу изменять нельзя. Его удивил простой солдат.*\n",
    "* Неологизмы: *печеньки, заинстаграммить, репостнуть, расшарить, затащить, килорубли*\n",
    "* Разные варианты написания: *Россия, Российская Федерация, РФ*\n",
    "* Нестандартное написание: *каг дила?*"
   ]
  },
  {
   "cell_type": "markdown",
   "metadata": {},
   "source": [
    "![pipeline](img/nlp_pipeline.png)"
   ]
  },
  {
   "cell_type": "markdown",
   "metadata": {
    "slideshow": {
     "slide_type": "subslide"
    }
   },
   "source": [
    "### Синтаксическая неоднозначность \n",
    "![синтаксическая неоднозначность](http://78.media.tumblr.com/d6552ff51881937371c94dc18865d711/tumblr_mo1nl6Nt9n1rwewyjo1_400.jpg)\n",
    "\n",
    "\n",
    "* I saw the man. The man was on the hill. I was using a telescope.\n",
    "* I saw the man. I was on the hill. I was using a telescope.\n",
    "* I saw the man. The man was on the hill. The hill had a telescope.\n",
    "* I saw the man. I was on the hill. The hill had a telescope.\n",
    "* I saw the man. The man was on the hill. I saw him using a telescope."
   ]
  },
  {
   "cell_type": "markdown",
   "metadata": {
    "slideshow": {
     "slide_type": "slide"
    }
   },
   "source": [
    "# План\n",
    "1.1 Предварительная обработка текстов: регулярные выражения и POS тэггинг\n",
    "1.2 Векторная модель, дистрибутивная семантика: word2vec\n",
    "2. Классификация текстов: FNN, CNN\n",
    "3. Языковые модели и извлечение информации: RNN \n",
    "4. Машинный перевод: seq2seq "
   ]
  },
  {
   "cell_type": "markdown",
   "metadata": {
    "slideshow": {
     "slide_type": "subslide"
    }
   },
   "source": [
    "## План на сегодня\n",
    "1. Знакомство с инструментами обработки русского языка \n",
    "2. word2vec "
   ]
  },
  {
   "cell_type": "markdown",
   "metadata": {
    "slideshow": {
     "slide_type": "slide"
    }
   },
   "source": [
    "# Токенизация и подсчет количества слов\n"
   ]
  },
  {
   "cell_type": "markdown",
   "metadata": {
    "slideshow": {
     "slide_type": "subslide"
    }
   },
   "source": [
    "## Анализ  сообщений vk.com\n",
    "\n",
    "\n",
    "Ссылка на данные: https://www.dropbox.com/s/e6gtta6ge4pzu0q/data.zip?dl=0"
   ]
  },
  {
   "cell_type": "code",
   "execution_count": 1,
   "metadata": {},
   "outputs": [],
   "source": [
    "import warnings\n",
    "warnings.filterwarnings('ignore')\n",
    "import matplotlib.pyplot as plt"
   ]
  },
  {
   "cell_type": "code",
   "execution_count": 2,
   "metadata": {
    "slideshow": {
     "slide_type": "subslide"
    }
   },
   "outputs": [
    {
     "data": {
      "text/html": [
       "<div>\n",
       "<table border=\"1\" class=\"dataframe\">\n",
       "  <thead>\n",
       "    <tr style=\"text-align: right;\">\n",
       "      <th></th>\n",
       "      <th>text</th>\n",
       "      <th>source</th>\n",
       "    </tr>\n",
       "  </thead>\n",
       "  <tbody>\n",
       "    <tr>\n",
       "      <th>0</th>\n",
       "      <td>Начальник Главного оперативного управления Ген...</td>\n",
       "      <td>mil</td>\n",
       "    </tr>\n",
       "    <tr>\n",
       "      <th>1</th>\n",
       "      <td>Артиллерийские подразделения общевойскового об...</td>\n",
       "      <td>mil</td>\n",
       "    </tr>\n",
       "    <tr>\n",
       "      <th>2</th>\n",
       "      <td>Подразделения морской пехоты Каспийской флотил...</td>\n",
       "      <td>mil</td>\n",
       "    </tr>\n",
       "    <tr>\n",
       "      <th>3</th>\n",
       "      <td>Команды на всеармейских этапах конкурсов АрМИ-...</td>\n",
       "      <td>mil</td>\n",
       "    </tr>\n",
       "    <tr>\n",
       "      <th>4</th>\n",
       "      <td>На большом учебно-методическом командирском сб...</td>\n",
       "      <td>mil</td>\n",
       "    </tr>\n",
       "  </tbody>\n",
       "</table>\n",
       "</div>"
      ],
      "text/plain": [
       "                                                text source\n",
       "0  Начальник Главного оперативного управления Ген...    mil\n",
       "1  Артиллерийские подразделения общевойскового об...    mil\n",
       "2  Подразделения морской пехоты Каспийской флотил...    mil\n",
       "3  Команды на всеармейских этапах конкурсов АрМИ-...    mil\n",
       "4  На большом учебно-методическом командирском сб...    mil"
      ]
     },
     "execution_count": 2,
     "metadata": {},
     "output_type": "execute_result"
    }
   ],
   "source": [
    "import pandas as pd\n",
    "\n",
    "df = pd.read_csv('data/vk_texts_with_sources.csv', usecols = ['text', 'source'])\n",
    "\n",
    "df.text.dropna(inplace = True)\n",
    "df.head()\n",
    "\n"
   ]
  },
  {
   "cell_type": "markdown",
   "metadata": {
    "slideshow": {
     "slide_type": "subslide"
    }
   },
   "source": [
    "### Длины текстов (в символах)"
   ]
  },
  {
   "cell_type": "code",
   "execution_count": 3,
   "metadata": {},
   "outputs": [],
   "source": [
    "len_data = df.text.str.len()"
   ]
  },
  {
   "cell_type": "code",
   "execution_count": 4,
   "metadata": {
    "slideshow": {
     "slide_type": "fragment"
    }
   },
   "outputs": [
    {
     "data": {
      "image/png": "[encoded data removed]",
      "text/plain": [
       "<matplotlib.figure.Figure at 0x110ddc710>"
      ]
     },
     "metadata": {},
     "output_type": "display_data"
    }
   ],
   "source": [
    "fig, ax = plt.subplots()\n",
    "\n",
    "length = len_data[len_data < 10000].tolist()\n",
    "\n",
    "n, bins, patches = ax.hist(length)\n",
    "\n",
    "fig.show()"
   ]
  },
  {
   "cell_type": "markdown",
   "metadata": {
    "slideshow": {
     "slide_type": "subslide"
    }
   },
   "source": [
    "## Токенизация\n",
    "\n",
    "Используем регулярные выражения, чтобы разбить тексты на слова"
   ]
  },
  {
   "cell_type": "code",
   "execution_count": 5,
   "metadata": {
    "slideshow": {
     "slide_type": "fragment"
    }
   },
   "outputs": [
    {
     "data": {
      "text/plain": [
       "'начальник главного оперативного управления генерального штаба вооруженных сил рф генерал полковник сергей рудской провел брифинг для сми по ситуации в сирии с начала этого года сирийскими правительственными войсками при поддержке вкс россии достигнуты значительные успехи по освобождению ключевых районов сирии от остатков террористических группировок это восточная часть провинции идлиб пригороды дамаска восточная гута восточный каламун ярмук северные районы провинции хомс которые в настоящее время находятся полностью под контролем правительственных войск в январе феврале в восточной части провинции идлиб была окружена и уничтожена крупная группировка джабхат ан нусра численностью более 1500 боевиков а также разрозненные бандгруппы игиловцев в результате под контроль правительственных войск перешла территория от кафер аккара до саббура с севера на юг и от синджара до эль хаммам с запада на восток площадью более четырех тысяч 300 квадратных километров в настоящее время возобновлено движение по дороге соединяющей хаму и алеппо в освобожденных районах интенсивно налаживается мирная жизнь что способствует возвращению беженцев так через гуманитарный коридор в районе населенных пунктов абу духур и тель султан из западной части провинции идлиб в провинцию алеппо вернулось 9 тысяч 573 мирных жителя постепенно нормализуется ситуация в зоне деэскалации идлиб завершено выставление наблюдательных постов вдоль линии разграничения на которых несут службу военнослужащие стран гарантов астанинских соглашений ирана россии и турции всего российской стороной выставлено 10 постов турцией 12 ираном 7 они обеспечивают контроль соблюдения режима прекращения боевых действий правительственными войсками и вооруженной оппозицией между постами установлена устойчивая связь организован постоянный обмен информацией об обстановке и нарушениях режима прекращения боевых действий принимаются меры по их пресечению и урегулированию конфликтных ситуаций завершена операция правительственных войск по освобождению всех пригородов дамаска в ходе нее под руководством российского центра по примирению враждующих сторон была проведена беспрецедентная по своему масштабу гуманитарная операция в восточной гуте восточном каламуне и ярмуке во избежание напрасных потерь и жертв среди мирного населения по специально созданным гуманитарным коридорам из пригородов дамаска выведено 188 тысяч 234 человека среди которых 28 тысяч 725 боевиков по их желанию они были выведены в северные районы страны большая часть мирных граждан уже вернулась в свои дома последним оплотом террористов в сирийской столице являлся бывший лагерь палестинских беженцев ярмук который был превращен в убежище для игиловцев разгромленных ранее сирийской армией в различных районах сирии на сегодняшний день вооруженные формирования игил действовавшие в западной части ярмука полностью уничтожены территория перешла под контроль правительственных войск кроме того благодаря работе проведенной российским центром по примирению враждующих сторон члены отрядов вооруженной оппозиции из восточной части ярмука смогли по своему желанию либо воспользоваться действующей амнистией и вернуться к мирной жизни либо выехать с семьями в провинцию идлиб всего из ярмука было вывезено 3 тысячи 283 боевика в результате проведенной операции впервые за шесть лет жители сирийской столицы почувствовали себя в безопасности прекратились ежедневные обстрелы жилых кварталов города террористические акты и похищения людей свободу получили заложники удерживаемые боевиками в районах ранее контролируемых бандформированиями на порядок снизились цены на продукты питания и медикаменты люди получили доступ к медицинскому обслуживанию сегодня обстановка в освобожденных районах полностью нормализовалась и способствует налаживанию мирной жизни по аналогичному сценарию проведена гуманитарная операция в зоне деэскалации хомс в ходе переговоров с лидерами вооруженных формирований шейхами племен и представителями религиозных общин была достигнута договоренность о переходе населенных пунктов в зоне деэскалации к мирной жизни и разблокировании движения по автомобильной дороге хомс хама члены отрядов вооруженной оппозиции получили возможность воспользоваться амнистией и остаться в своих населенных пунктах боевикам не пожелавшим перейти под юрисдикцию правительства сирии был обеспечен выезд в провинцию идлиб и на север провинции алеппо в город джераблус с 7 мая из городов эр растан аль кантара шимали телль биса и других населенных пунктов вывезено 13 тысяч 407 участников незаконных вооруженных формирований вооруженными формированиями сдано правительственным войскам 7 танков 5 бмп 7 пикапов с крупнокалиберными пулеметами 122 орудия и миномета 20 реактивных систем залпового огня 9 комплексов птур 45 ручных противотанковых гранатометов 14 средств пво 12 самодельных пусковых установок адский огонь а также 56 крупнокалиберных пулеметов особо отмечу что освобождение зоны деэскалации хомс от боевиков достигнуто мирным путем боевые действия не велись что позволило полностью исключить жертвы среди мирных жителей и членов отрядов оппозиции данные вопросы а также текущая ситуация в сирии обсуждались представителями россии турции и ирана и на девятой международной встрече которая завершилась 15 мая в астане представители стран гарантов подвели итоги развития ситуации на земле за год с момента подписания меморандума о создании зон деэскалации в сирийской арабской республике от 4 мая 2017 г подчеркнули ключевую роль которую играют зоны деэскалации в поддержании режима прекращения боевых действий снижении уровня насилия и в целом стабилизации обстановки в сирии участники конференции приветствовали проведение представителями трех стран гарантов второго заседания рабочей группы по освобождению задержанных и заложников передаче тел погибших и поиску пропавших без вести при участии экспертов оон и мккк была подтверждена необходимость продолжения совместных усилий с целью укрепления доверия между конфликтующими сторонами в сирии стороны договорились приложить дополнительные усилия по направлению в сирию помощи населению содействию гуманитарному разминированию сохранению исторического наследия восстановлению объектов социальной и экономической инфраструктуры российский центр по примирению враждующих сторон продолжает работу по оказанию гуманитарной помощи населению сирии более подробно о ходе восстановления объектов инфраструктуры в районах освобожденных от вооруженных формирований и возвращении беженцев расскажет начальник центра по примирению враждующих сторон генерал майор юрий евтушенко находящийся на видеоконференцсвязи юрий евтушенко отметил что после освобождения восточной гуты от боевиков основные усилия центра по примирению враждующих сторон сосредоточены на постконфликтном урегулировании и создании условий для возращения людей к мирной жизни для расчистки завалов уборки улиц восстановления объектов жилищно коммунального хозяйства в населенные пункты дума кафер батна дахийят аль асад и арбил доставлена российская специальная техника пиломатериалы силовые и оптоволоконные кабели водопроводные трубы и другие строительные материалы это позволило ремонтным бригадам оперативно приступить к восстановлению объектов инфраструктуры в восточной гуте представители центра по примирению постоянно проводят мониторинг гуманитарной обстановки координируя с органами государственной власти сирийской арабской республики и местного управления вопросы восстановления социально значимых объектов имеющих первоочередное значение речь идет о школах больницах хлебопекарнях объектах электро и водоснабжения инженерно саперными подразделениями сирийской армии не прекращается работа по разминированию жилых строений вывозу боеприпасов и мин на сегодняшний день в населенных пунктах восточной гуты разминировано 453 здания и сооружения 32 километра дорог обнаружено и обезврежено 956 взрывоопасных предметов расчищено от завалов более 25 квадратных километров площади населенных пунктов благодаря улучшению гуманитарной ситуации из лагерей беженцев и временно перемещенных лиц в свои дома уже вернулось 66 тысяч 257 жителей восточной гуты для исключения провокаций и обеспечения безопасности местных жителей подразделениями российской военной полиции в восточной гуте восточном каламуне ярмуке эр растане и телль бисе ежедневно выставляются наблюдательные посты ведется патрулирование российской стороной предпринимаются усилия по улучшению гуманитарной ситуации и в других районах сирии только за текущий месяц центром по примирению проведена 41 гуманитарная акция в ходе чего населению передано более 95 тонн продовольствия бутилированной воды и предметов первой необходимости российскими военными врачами оказана медицинская помощь более 1000 мирных жителей сирийские власти совместно с российским центром по примирению продолжают работу по созданию условий для возвращения граждан в места прежнего проживания с 1 ноября 2017 года в свои дома в провинции хомс вернулось 13 тысяч 763 человека в провинции дейр эз зор на восточный берег реки евфрат 46 тысяч 792 человека в населенные пункты восточного каламуна с 25 апреля 2018 года возвратилось более 7 тысяч человек в свою очередь генерал полковник сергей рудской заявил что несмотря на активную работу российского центра по примирению враждующих сторон для полного восстановления районов пострадавших в ходе боевых действий против террористических группировок в сирии и экономики страны в целом требуется помощь всего международного сообщества мы призываем оон и другие международные организации подключаться к данному процессу о шагах предпринимаемых российской стороной на данном направлении выступит представитель минобороны россии в женеве полковник юрий тарасов представитель минобороны россии в женеве полковник юрий тарасов подчеркнул что успешные мероприятия по замирению бывших зон деэскалации в восточной гуте провинциях хама и хомс привели к освобождению данных районов от экстремистов и их полному разблокированию это дает возможность оказания масштабной гуманитарной помощи населению которое долгое время находилось в изоляции и использовалось террористами в качестве живого щита российские представители в целевых группах оперативно информируют офис специального посланника генерального секретаря оон по сирии о ситуации в освобожденных районах в целях скорейшего подключения гуманитарных агентств к восстановлению мирной жизни и решению насущных проблем населения возвращающегося в свои дома как только были решены проблемы обеспечения безопасности в восточной гуте связанные с разминированием и расчисткой дорог сирийское правительство по согласованию с российской стороной дало разрешение на вход туда оценочных миссий оон так 12 мая ооновские специалисты организации посетили районы кафер батна и сакба в ближайшее время планируется направление миссии в город дума по линии гуманитарной целевой группы обсуждается план проведения подобной работы в провинции хомс в контактах с ооновцами российские представители стараются ускорить переход международных организаций от этапа оценки ситуации к практическим шагам по оказанию помощи в ходе еженедельных заседаний проводим работу направленную на развитие интереса стран членов международной группы поддержки сирии к оказанию содействия населению освобожденных районов в настоящее время нами прорабатывается вопрос подключения международных организаций к гуманитарному разминированию на территории страны открытие в дамаске офиса службы оон по разминированию находится на завершающем этапе согласования российские представители в целевых группах по прекращению огня и гуманитарной помощи находятся в круглосуточной готовности к взаимодействию с международными агентствами в том числе по вопросам деконфликтации прохождения конвоев и оценочных миссий кроме того мы регулярно предоставляем структурам оон информацию по приоритетным направлениям оказания гуманитарной помощи в стране что способствует направлению ее в наиболее нуждающиеся районы надеемся что оон и другие международные организации не на словах а на деле подтвердят свою заинтересованность в скорейшем восстановлении территорий сирии наиболее пострадавших от террористов и возвращении их к мирной жизни в заключение генерал полковник сергей рудской отметил что в настоящее время созданы все условия для возрождения сирии как единого неделимого государства но для достижения этой цели необходимо приложить усилия не только россии но и другим членам мирового сообщества генеральный штаб вооруженных сил российской федерации внимательно отслеживает развитие ситуации на территории сирии мы продолжим информировать вас о ее изменениях минобороны брифинг рудской сирия'"
      ]
     },
     "execution_count": 5,
     "metadata": {},
     "output_type": "execute_result"
    }
   ],
   "source": [
    "import re\n",
    "import regex\n",
    "\n",
    "\n",
    "\n",
    "\n",
    "def words_only(text):\n",
    "    try:\n",
    "        tmp = re.sub(r'\\W+', ' ', text)\n",
    "        tmp = regex.sub(u'[\\p{Latin}]', u'', tmp)\n",
    "        return ' '.join(tmp.split())\n",
    "    except:\n",
    "        return \"\"\n",
    "\n",
    "\n",
    "df.text = df.text.str.lower()\n",
    "df.text = df.text.apply(words_only)\n",
    "\n",
    "df.text.iloc[0]"
   ]
  },
  {
   "cell_type": "markdown",
   "metadata": {
    "slideshow": {
     "slide_type": "subslide"
    }
   },
   "source": [
    "### Самые частые слова"
   ]
  },
  {
   "cell_type": "code",
   "execution_count": 6,
   "metadata": {
    "slideshow": {
     "slide_type": "fragment"
    }
   },
   "outputs": [
    {
     "name": "stdout",
     "output_type": "stream",
     "text": [
      "('в', 39499)\n",
      "('и', 29649)\n",
      "('на', 17271)\n",
      "('по', 14796)\n",
      "('с', 11778)\n",
      "('россии', 9444)\n",
      "('мвд', 5448)\n",
      "('из', 4854)\n",
      "('для', 4635)\n",
      "('а', 3975)\n"
     ]
    }
   ],
   "source": [
    "from collections import Counter\n",
    "n_types = []\n",
    "n_tokens = []\n",
    "tokens = []\n",
    "cnt = Counter()\n",
    "for index, row in df.iterrows():\n",
    "    tokens = row['text'].split()\n",
    "    cnt.update(tokens)\n",
    "    n_types.append(len(cnt))\n",
    "    n_tokens.append(sum(cnt.values()))\n",
    "for i in cnt.most_common(10):\n",
    "    print(i)"
   ]
  },
  {
   "cell_type": "markdown",
   "metadata": {
    "slideshow": {
     "slide_type": "subslide"
    }
   },
   "source": [
    "### Закон Ципфа"
   ]
  },
  {
   "cell_type": "code",
   "execution_count": 7,
   "metadata": {
    "slideshow": {
     "slide_type": "fragment"
    }
   },
   "outputs": [
    {
     "data": {
      "image/png": "[encoded data removed]",
      "text/plain": [
       "<matplotlib.figure.Figure at 0x112a08e80>"
      ]
     },
     "metadata": {},
     "output_type": "display_data"
    }
   ],
   "source": [
    "freqs = list(cnt.values())\n",
    "freqs = sorted(freqs, reverse = True)\n",
    "\n",
    "fig, ax = plt.subplots()\n",
    "ax.plot(freqs[:300], range(300))\n",
    "plt.show()"
   ]
  },
  {
   "cell_type": "markdown",
   "metadata": {
    "slideshow": {
     "slide_type": "subslide"
    }
   },
   "source": [
    "### Закон Хипса"
   ]
  },
  {
   "cell_type": "code",
   "execution_count": 8,
   "metadata": {
    "slideshow": {
     "slide_type": "fragment"
    }
   },
   "outputs": [
    {
     "data": {
      "image/png": "[encoded data removed]",
      "text/plain": [
       "<matplotlib.figure.Figure at 0x112a08a58>"
      ]
     },
     "metadata": {},
     "output_type": "display_data"
    }
   ],
   "source": [
    "fig, ax = plt.subplots()\n",
    "ax.plot(n_types, n_tokens)\n",
    "plt.show()"
   ]
  },
  {
   "cell_type": "markdown",
   "metadata": {
    "slideshow": {
     "slide_type": "slide"
    }
   },
   "source": [
    "### Сегментация предложений"
   ]
  },
  {
   "cell_type": "markdown",
   "metadata": {
    "slideshow": {
     "slide_type": "subslide"
    }
   },
   "source": [
    "\"?\", \"!\" как правило однозначны. Проблемы возникают с \".\".\n",
    "\n",
    "Бинарный классификатор для сегментации предложений: для каждой точки \".\" определить, является ли она концом предложения или нет.\n"
   ]
  },
  {
   "cell_type": "code",
   "execution_count": 9,
   "metadata": {},
   "outputs": [
    {
     "name": "stdout",
     "output_type": "stream",
     "text": [
      "[nltk_data] Downloading package punkt to /Users/katya/nltk_data...\n",
      "[nltk_data]   Package punkt is already up-to-date!\n"
     ]
    },
    {
     "data": {
      "text/plain": [
       "True"
      ]
     },
     "execution_count": 9,
     "metadata": {},
     "output_type": "execute_result"
    }
   ],
   "source": [
    "import nltk\n",
    "nltk.download('punkt')"
   ]
  },
  {
   "cell_type": "code",
   "execution_count": 10,
   "metadata": {
    "slideshow": {
     "slide_type": "subslide"
    }
   },
   "outputs": [
    {
     "name": "stdout",
     "output_type": "stream",
     "text": [
      "3\n",
      "Первое предложение.\n",
      "Второе предложение!\n",
      "И, наконец, третье?\n"
     ]
    }
   ],
   "source": [
    "from nltk.tokenize import sent_tokenize\n",
    "\n",
    "text = 'Первое предложение. Второе предложение! И, наконец, третье?'\n",
    "sents = sent_tokenize(text)\n",
    "\n",
    "print(len(sents))\n",
    "print(*sents, sep='\\n')"
   ]
  },
  {
   "cell_type": "markdown",
   "metadata": {
    "slideshow": {
     "slide_type": "slide"
    }
   },
   "source": [
    "# Морфологический анализ"
   ]
  },
  {
   "cell_type": "markdown",
   "metadata": {
    "slideshow": {
     "slide_type": "subslide"
    }
   },
   "source": [
    "### Задачи морфологического анализа\n",
    "* Разбор слова — определение нормальной формы  (леммы), основы (стема) и грамматических характеристик слова\n",
    "* Синтез слова — генерация слова по заданным грамматическим характеристикам\n",
    "\n",
    "\n",
    "### Морфологический процессор – инструмент морфологического анализа\n",
    "* Морфологический словарь \n",
    "* Морфологический анализатор"
   ]
  },
  {
   "cell_type": "markdown",
   "metadata": {
    "slideshow": {
     "slide_type": "subslide"
    }
   },
   "source": [
    "### Лемматизация \n",
    "У каждого слова есть *лемма* (нормальная форма): \n",
    "\n",
    "* кошке, кошку, кошкам, кошкой $\\implies$ кошка\n",
    "* бежал, бежит, бегу $\\implies$  бежать\n",
    "* белому, белым, белыми $\\implies$ белый"
   ]
  },
  {
   "cell_type": "code",
   "execution_count": 11,
   "metadata": {
    "slideshow": {
     "slide_type": "subslide"
    }
   },
   "outputs": [],
   "source": [
    "sent1 = 'Действительно, на его лице не отражалось никаких чувств – ни проблеска сочувствия не было на нем, а ведь боль просто невыносима'\n",
    "sent2 = 'У страха глаза велики .'"
   ]
  },
  {
   "cell_type": "code",
   "execution_count": 12,
   "metadata": {
    "slideshow": {
     "slide_type": "fragment"
    }
   },
   "outputs": [
    {
     "name": "stdout",
     "output_type": "stream",
     "text": [
      "действительно, на он лицо не отражаться никакой чувство – ни проблеск сочувствие не быть на нем, а ведь боль просто невыносимый\n"
     ]
    }
   ],
   "source": [
    "from pymorphy2 import MorphAnalyzer\n",
    "\n",
    "m = MorphAnalyzer()\n",
    "lemmas1 = [m.parse(word)[0].normal_form for word in sent1.split()]\n",
    "print(' '.join(lemmas1))"
   ]
  },
  {
   "cell_type": "code",
   "execution_count": 13,
   "metadata": {
    "slideshow": {
     "slide_type": "fragment"
    }
   },
   "outputs": [
    {
     "name": "stdout",
     "output_type": "stream",
     "text": [
      "действительно, на его лицо не отражаться никакой чувство – ни проблеск сочувствие не быть на немой, а ведь боль просто невыносимый\n",
      "\n"
     ]
    }
   ],
   "source": [
    "from pymystem3 import Mystem\n",
    "\n",
    "m = Mystem()\n",
    "lemmas2 = m.lemmatize(sent1)\n",
    "print(''.join(lemmas2))"
   ]
  },
  {
   "cell_type": "markdown",
   "metadata": {
    "slideshow": {
     "slide_type": "subslide"
    }
   },
   "source": [
    "### Стемминг\n",
    "Слова состоят из морфем: $word = stem + affixes$. Стемминг позволяет отбросить аффиксы. Чаще всего используется алгоритм Портера.\n",
    "\n",
    "* 1-ый вид ошибки: белый, белка, белье $\\implies$  бел\n",
    "\n",
    "* 2-ой вид ошибки: трудность, трудный $\\implies$  трудност, труд \n",
    "\n",
    "* 3-ий вид ошибки: быстрый, быстрее $\\implies$  быст, побыстрее $\\implies$  побыст\n",
    "\n",
    "Алгоритм Портера состоит из 5 циклов команд, на каждом цикле – операция удаления / замены суффикса. Возможны вероятностные расширения алгоритма.\n"
   ]
  },
  {
   "cell_type": "code",
   "execution_count": 14,
   "metadata": {
    "slideshow": {
     "slide_type": "subslide"
    }
   },
   "outputs": [
    {
     "name": "stdout",
     "output_type": "stream",
     "text": [
      "распределен\n",
      "пристав\n",
      "сдела\n",
      "словообразован\n"
     ]
    }
   ],
   "source": [
    "from nltk.stem.snowball import RussianStemmer\n",
    "\n",
    "stemmer = RussianStemmer()\n",
    "words = ['распределение', 'приставить', 'сделала', 'словообразование']\n",
    "for w in words:\n",
    "    stem = stemmer.stem(w)\n",
    "    print(stem)"
   ]
  },
  {
   "cell_type": "markdown",
   "metadata": {
    "slideshow": {
     "slide_type": "subslide"
    }
   },
   "source": [
    "### Разбор слова "
   ]
  },
  {
   "cell_type": "code",
   "execution_count": 15,
   "metadata": {
    "slideshow": {
     "slide_type": "fragment"
    }
   },
   "outputs": [],
   "source": [
    "word1 = 'ГАИ'"
   ]
  },
  {
   "cell_type": "code",
   "execution_count": 16,
   "metadata": {
    "slideshow": {
     "slide_type": "fragment"
    }
   },
   "outputs": [
    {
     "data": {
      "text/plain": [
       "[Parse(word='гаи', tag=OpencorporaTag('NOUN,anim,masc,Name plur,nomn'), normal_form='гай', score=0.1111111111111111, methods_stack=((<DictionaryAnalyzer>, 'гаи', 41, 6),)),\n",
       " Parse(word='гаи', tag=OpencorporaTag('NOUN,inan,masc plur,nomn'), normal_form='гай', score=0.1111111111111111, methods_stack=((<DictionaryAnalyzer>, 'гаи', 495, 7),)),\n",
       " Parse(word='гаи', tag=OpencorporaTag('NOUN,inan,masc plur,accs'), normal_form='гай', score=0.1111111111111111, methods_stack=((<DictionaryAnalyzer>, 'гаи', 495, 10),)),\n",
       " Parse(word='гаи', tag=OpencorporaTag('NOUN,inan,femn,Sgtm,Fixd,Abbr,Orgn sing,nomn'), normal_form='гаи', score=0.1111111111111111, methods_stack=((<DictionaryAnalyzer>, 'гаи', 645, 0),)),\n",
       " Parse(word='гаи', tag=OpencorporaTag('NOUN,inan,femn,Sgtm,Fixd,Abbr,Orgn sing,gent'), normal_form='гаи', score=0.1111111111111111, methods_stack=((<DictionaryAnalyzer>, 'гаи', 645, 1),)),\n",
       " Parse(word='гаи', tag=OpencorporaTag('NOUN,inan,femn,Sgtm,Fixd,Abbr,Orgn sing,datv'), normal_form='гаи', score=0.1111111111111111, methods_stack=((<DictionaryAnalyzer>, 'гаи', 645, 2),)),\n",
       " Parse(word='гаи', tag=OpencorporaTag('NOUN,inan,femn,Sgtm,Fixd,Abbr,Orgn sing,accs'), normal_form='гаи', score=0.1111111111111111, methods_stack=((<DictionaryAnalyzer>, 'гаи', 645, 3),)),\n",
       " Parse(word='гаи', tag=OpencorporaTag('NOUN,inan,femn,Sgtm,Fixd,Abbr,Orgn sing,ablt'), normal_form='гаи', score=0.1111111111111111, methods_stack=((<DictionaryAnalyzer>, 'гаи', 645, 4),)),\n",
       " Parse(word='гаи', tag=OpencorporaTag('NOUN,inan,femn,Sgtm,Fixd,Abbr,Orgn sing,loct'), normal_form='гаи', score=0.1111111111111111, methods_stack=((<DictionaryAnalyzer>, 'гаи', 645, 5),))]"
      ]
     },
     "execution_count": 16,
     "metadata": {},
     "output_type": "execute_result"
    }
   ],
   "source": [
    "m = MorphAnalyzer()\n",
    "m.parse(word1)"
   ]
  },
  {
   "cell_type": "code",
   "execution_count": 17,
   "metadata": {
    "slideshow": {
     "slide_type": "fragment"
    }
   },
   "outputs": [
    {
     "data": {
      "text/plain": [
       "[{'analysis': [{'gr': 'S,сокр,ед,жен,неод=(пр|вин|дат|род|твор|им)',\n",
       "    'lex': 'гаи'}],\n",
       "  'text': 'ГАИ'},\n",
       " {'text': '\\n'}]"
      ]
     },
     "execution_count": 17,
     "metadata": {},
     "output_type": "execute_result"
    }
   ],
   "source": [
    "m = Mystem()\n",
    "m.analyze(word1)"
   ]
  },
  {
   "cell_type": "markdown",
   "metadata": {
    "slideshow": {
     "slide_type": "subslide"
    }
   },
   "source": [
    "### Удаление стоп-слов"
   ]
  },
  {
   "cell_type": "code",
   "execution_count": 18,
   "metadata": {
    "slideshow": {
     "slide_type": "fragment"
    }
   },
   "outputs": [
    {
     "name": "stdout",
     "output_type": "stream",
     "text": [
      "['и', 'в', 'во', 'не', 'что', 'он', 'на', 'я', 'с', 'со', 'как', 'а', 'то', 'все', 'она', 'так', 'его', 'но', 'да', 'ты', 'к', 'у', 'же', 'вы', 'за', 'бы', 'по', 'только', 'ее', 'мне', 'было', 'вот', 'от', 'меня', 'еще', 'нет', 'о', 'из', 'ему', 'теперь', 'когда', 'даже', 'ну', 'вдруг', 'ли', 'если', 'уже', 'или', 'ни', 'быть', 'был', 'него', 'до', 'вас', 'нибудь', 'опять', 'уж', 'вам', 'ведь', 'там', 'потом', 'себя', 'ничего', 'ей', 'может', 'они', 'тут', 'где', 'есть', 'надо', 'ней', 'для', 'мы', 'тебя', 'их', 'чем', 'была', 'сам', 'чтоб', 'без', 'будто', 'чего', 'раз', 'тоже', 'себе', 'под', 'будет', 'ж', 'тогда', 'кто', 'этот', 'того', 'потому', 'этого', 'какой', 'совсем', 'ним', 'здесь', 'этом', 'один', 'почти', 'мой', 'тем', 'чтобы', 'нее', 'сейчас', 'были', 'куда', 'зачем', 'всех', 'никогда', 'можно', 'при', 'наконец', 'два', 'об', 'другой', 'хоть', 'после', 'над', 'больше', 'тот', 'через', 'эти', 'нас', 'про', 'всего', 'них', 'какая', 'много', 'разве', 'три', 'эту', 'моя', 'впрочем', 'хорошо', 'свою', 'этой', 'перед', 'иногда', 'лучше', 'чуть', 'том', 'нельзя', 'такой', 'им', 'более', 'всегда', 'конечно', 'всю', 'между']\n"
     ]
    }
   ],
   "source": [
    "from nltk.corpus import stopwords\n",
    "print(stopwords.words('russian'))"
   ]
  },
  {
   "cell_type": "code",
   "execution_count": 19,
   "metadata": {
    "slideshow": {
     "slide_type": "subslide"
    }
   },
   "outputs": [],
   "source": [
    "mystopwords = stopwords.words('russian') + ['это', 'наш' , 'тыс', 'млн', 'млрд', 'также',  'т', 'д']\n",
    "def  remove_stopwords(text, mystopwords = mystopwords):\n",
    "    try:\n",
    "        return \" \".join([token for token in text.split() if not token in mystopwords])\n",
    "    except:\n",
    "        return \"\"\n",
    " "
   ]
  },
  {
   "cell_type": "code",
   "execution_count": 20,
   "metadata": {
    "slideshow": {
     "slide_type": "subslide"
    }
   },
   "outputs": [],
   "source": [
    "m = Mystem()\n",
    "def lemmatize(text, mystem=m):\n",
    "    try:\n",
    "        return \"\".join(m.lemmatize(text)).strip()  \n",
    "    except:\n",
    "        return \" \""
   ]
  },
  {
   "cell_type": "code",
   "execution_count": 21,
   "metadata": {
    "slideshow": {
     "slide_type": "subslide"
    }
   },
   "outputs": [],
   "source": [
    "mystoplemmas = ['который','прошлый','сей', 'свой', 'наш', 'мочь']\n",
    "def  remove_stoplemmas(text, mystoplemmas = mystoplemmas):\n",
    "    try:\n",
    "        return \" \".join([token for token in text.split() if not token in mystoplemmas])\n",
    "    except:\n",
    "        return \"\"\n"
   ]
  },
  {
   "cell_type": "code",
   "execution_count": 22,
   "metadata": {
    "slideshow": {
     "slide_type": "subslide"
    }
   },
   "outputs": [],
   "source": [
    "df.text = df.text.apply(remove_stopwords) \n",
    "df.text = df.text.apply(lemmatize)\n",
    "df.text = df.text.apply(remove_stoplemmas) "
   ]
  },
  {
   "cell_type": "code",
   "execution_count": 23,
   "metadata": {
    "slideshow": {
     "slide_type": "subslide"
    }
   },
   "outputs": [
    {
     "name": "stdout",
     "output_type": "stream",
     "text": [
      "('россия', 9769)\n",
      "('полиция', 6128)\n",
      "('год', 5823)\n",
      "('мвд', 5448)\n",
      "('москва', 5284)\n",
      "('сотрудник', 3857)\n",
      "('почтовый', 3772)\n",
      "('мчс', 3670)\n",
      "('г', 3637)\n",
      "('почта', 3392)\n"
     ]
    }
   ],
   "source": [
    "lemmata = []\n",
    "for index, row in df.iterrows():\n",
    "    lemmata += row['text'].split()\n",
    "cnt = Counter(lemmata)\n",
    "for i in cnt.most_common(10):\n",
    "    print(i)"
   ]
  }
 ],
 "metadata": {
  "celltoolbar": "Slideshow",
  "kernelspec": {
   "display_name": "Python 3",
   "language": "python",
   "name": "python3"
  },
  "language_info": {
   "codemirror_mode": {
    "name": "ipython",
    "version": 3
   },
   "file_extension": ".py",
   "mimetype": "text/x-python",
   "name": "python",
   "nbconvert_exporter": "python",
   "pygments_lexer": "ipython3",
   "version": "3.6.0"
  }
 },
 "nbformat": 4,
 "nbformat_minor": 2
}
